{
 "cells": [
  {
   "cell_type": "code",
   "execution_count": 1,
   "id": "6566aeb2",
   "metadata": {
    "_cell_guid": "b1076dfc-b9ad-4769-8c92-a6c4dae69d19",
    "_uuid": "8f2839f25d086af736a60e9eeb907d3b93b6e0e5",
    "execution": {
     "iopub.execute_input": "2023-04-02T07:53:05.325278Z",
     "iopub.status.busy": "2023-04-02T07:53:05.324288Z",
     "iopub.status.idle": "2023-04-02T07:53:05.352816Z",
     "shell.execute_reply": "2023-04-02T07:53:05.351488Z"
    },
    "papermill": {
     "duration": 0.045869,
     "end_time": "2023-04-02T07:53:05.356847",
     "exception": false,
     "start_time": "2023-04-02T07:53:05.310978",
     "status": "completed"
    },
    "tags": []
   },
   "outputs": [
    {
     "name": "stdout",
     "output_type": "stream",
     "text": [
      "/kaggle/input/netflix-movies-and-tv-shows/credits.csv\n",
      "/kaggle/input/netflix-movies-and-tv-shows/titles.csv\n"
     ]
    }
   ],
   "source": [
    "# This Python 3 environment comes with many helpful analytics libraries installed\n",
    "# It is defined by the kaggle/python Docker image: https://github.com/kaggle/docker-python\n",
    "# For example, here's several helpful packages to load\n",
    "\n",
    "import numpy as np # linear algebra\n",
    "import pandas as pd # data processing, CSV file I/O (e.g. pd.read_csv)\n",
    "\n",
    "# Input data files are available in the read-only \"../input/\" directory\n",
    "# For example, running this (by clicking run or pressing Shift+Enter) will list all files under the input directory\n",
    "\n",
    "import os\n",
    "for dirname, _, filenames in os.walk('/kaggle/input'):\n",
    "    for filename in filenames:\n",
    "        print(os.path.join(dirname, filename))\n",
    "\n",
    "# You can write up to 20GB to the current directory (/kaggle/working/) that gets preserved as output when you create a version using \"Save & Run All\" \n",
    "# You can also write temporary files to /kaggle/temp/, but they won't be saved outside of the current session"
   ]
  },
  {
   "cell_type": "code",
   "execution_count": 2,
   "id": "b8f3df19",
   "metadata": {
    "execution": {
     "iopub.execute_input": "2023-04-02T07:53:05.378185Z",
     "iopub.status.busy": "2023-04-02T07:53:05.377774Z",
     "iopub.status.idle": "2023-04-02T07:53:06.666078Z",
     "shell.execute_reply": "2023-04-02T07:53:06.664605Z"
    },
    "papermill": {
     "duration": 1.30245,
     "end_time": "2023-04-02T07:53:06.669145",
     "exception": false,
     "start_time": "2023-04-02T07:53:05.366695",
     "status": "completed"
    },
    "tags": []
   },
   "outputs": [],
   "source": [
    "import pandas as pd\n",
    "import numpy as np\n",
    "import matplotlib.pyplot as plt\n",
    "import seaborn as sns\n",
    "%matplotlib inline\n",
    "plt.style.use('fivethirtyeight') # 스타일시트 'fivethirtyeight' 사용\n",
    "\n",
    "\n",
    "import warnings\n",
    "warnings.filterwarnings('ignore')"
   ]
  },
  {
   "cell_type": "code",
   "execution_count": 3,
   "id": "b63ba9ba",
   "metadata": {
    "execution": {
     "iopub.execute_input": "2023-04-02T07:53:06.690229Z",
     "iopub.status.busy": "2023-04-02T07:53:06.689798Z",
     "iopub.status.idle": "2023-04-02T07:53:06.844512Z",
     "shell.execute_reply": "2023-04-02T07:53:06.843456Z"
    },
    "papermill": {
     "duration": 0.16827,
     "end_time": "2023-04-02T07:53:06.847064",
     "exception": false,
     "start_time": "2023-04-02T07:53:06.678794",
     "status": "completed"
    },
    "tags": []
   },
   "outputs": [
    {
     "data": {
      "text/html": [
       "<div>\n",
       "<style scoped>\n",
       "    .dataframe tbody tr th:only-of-type {\n",
       "        vertical-align: middle;\n",
       "    }\n",
       "\n",
       "    .dataframe tbody tr th {\n",
       "        vertical-align: top;\n",
       "    }\n",
       "\n",
       "    .dataframe thead th {\n",
       "        text-align: right;\n",
       "    }\n",
       "</style>\n",
       "<table border=\"1\" class=\"dataframe\">\n",
       "  <thead>\n",
       "    <tr style=\"text-align: right;\">\n",
       "      <th></th>\n",
       "      <th>id</th>\n",
       "      <th>title</th>\n",
       "      <th>type</th>\n",
       "      <th>description</th>\n",
       "      <th>release_year</th>\n",
       "      <th>age_certification</th>\n",
       "      <th>runtime</th>\n",
       "      <th>genres</th>\n",
       "      <th>production_countries</th>\n",
       "      <th>seasons</th>\n",
       "      <th>imdb_id</th>\n",
       "      <th>imdb_score</th>\n",
       "      <th>imdb_votes</th>\n",
       "      <th>tmdb_popularity</th>\n",
       "      <th>tmdb_score</th>\n",
       "    </tr>\n",
       "  </thead>\n",
       "  <tbody>\n",
       "    <tr>\n",
       "      <th>0</th>\n",
       "      <td>ts300399</td>\n",
       "      <td>Five Came Back: The Reference Films</td>\n",
       "      <td>SHOW</td>\n",
       "      <td>This collection includes 12 World War II-era p...</td>\n",
       "      <td>1945</td>\n",
       "      <td>TV-MA</td>\n",
       "      <td>51</td>\n",
       "      <td>['documentation']</td>\n",
       "      <td>['US']</td>\n",
       "      <td>1.0</td>\n",
       "      <td>NaN</td>\n",
       "      <td>NaN</td>\n",
       "      <td>NaN</td>\n",
       "      <td>0.601</td>\n",
       "      <td>NaN</td>\n",
       "    </tr>\n",
       "    <tr>\n",
       "      <th>1</th>\n",
       "      <td>tm82169</td>\n",
       "      <td>Rocky</td>\n",
       "      <td>MOVIE</td>\n",
       "      <td>When world heavyweight boxing champion, Apollo...</td>\n",
       "      <td>1976</td>\n",
       "      <td>PG</td>\n",
       "      <td>119</td>\n",
       "      <td>['drama', 'sport']</td>\n",
       "      <td>['US']</td>\n",
       "      <td>NaN</td>\n",
       "      <td>tt0075148</td>\n",
       "      <td>8.1</td>\n",
       "      <td>588100.0</td>\n",
       "      <td>106.361</td>\n",
       "      <td>7.782</td>\n",
       "    </tr>\n",
       "    <tr>\n",
       "      <th>2</th>\n",
       "      <td>tm17823</td>\n",
       "      <td>Grease</td>\n",
       "      <td>MOVIE</td>\n",
       "      <td>Australian good girl Sandy and greaser Danny f...</td>\n",
       "      <td>1978</td>\n",
       "      <td>PG</td>\n",
       "      <td>110</td>\n",
       "      <td>['romance', 'comedy']</td>\n",
       "      <td>['US']</td>\n",
       "      <td>NaN</td>\n",
       "      <td>tt0077631</td>\n",
       "      <td>7.2</td>\n",
       "      <td>283316.0</td>\n",
       "      <td>33.160</td>\n",
       "      <td>7.406</td>\n",
       "    </tr>\n",
       "    <tr>\n",
       "      <th>3</th>\n",
       "      <td>tm191099</td>\n",
       "      <td>The Sting</td>\n",
       "      <td>MOVIE</td>\n",
       "      <td>A novice con man teams up with an acknowledged...</td>\n",
       "      <td>1973</td>\n",
       "      <td>PG</td>\n",
       "      <td>129</td>\n",
       "      <td>['crime', 'drama', 'comedy', 'music']</td>\n",
       "      <td>['US']</td>\n",
       "      <td>NaN</td>\n",
       "      <td>tt0070735</td>\n",
       "      <td>8.3</td>\n",
       "      <td>266738.0</td>\n",
       "      <td>24.616</td>\n",
       "      <td>8.020</td>\n",
       "    </tr>\n",
       "    <tr>\n",
       "      <th>4</th>\n",
       "      <td>tm69975</td>\n",
       "      <td>Rocky II</td>\n",
       "      <td>MOVIE</td>\n",
       "      <td>After Rocky goes the distance with champ Apoll...</td>\n",
       "      <td>1979</td>\n",
       "      <td>PG</td>\n",
       "      <td>119</td>\n",
       "      <td>['drama', 'sport']</td>\n",
       "      <td>['US']</td>\n",
       "      <td>NaN</td>\n",
       "      <td>tt0079817</td>\n",
       "      <td>7.3</td>\n",
       "      <td>216307.0</td>\n",
       "      <td>75.699</td>\n",
       "      <td>7.246</td>\n",
       "    </tr>\n",
       "    <tr>\n",
       "      <th>...</th>\n",
       "      <td>...</td>\n",
       "      <td>...</td>\n",
       "      <td>...</td>\n",
       "      <td>...</td>\n",
       "      <td>...</td>\n",
       "      <td>...</td>\n",
       "      <td>...</td>\n",
       "      <td>...</td>\n",
       "      <td>...</td>\n",
       "      <td>...</td>\n",
       "      <td>...</td>\n",
       "      <td>...</td>\n",
       "      <td>...</td>\n",
       "      <td>...</td>\n",
       "      <td>...</td>\n",
       "    </tr>\n",
       "    <tr>\n",
       "      <th>6132</th>\n",
       "      <td>tm1303784</td>\n",
       "      <td>عبود في البيت</td>\n",
       "      <td>MOVIE</td>\n",
       "      <td>Two young boys must work together to stop robb...</td>\n",
       "      <td>2023</td>\n",
       "      <td>NaN</td>\n",
       "      <td>81</td>\n",
       "      <td>['family', 'comedy']</td>\n",
       "      <td>['KW']</td>\n",
       "      <td>NaN</td>\n",
       "      <td>NaN</td>\n",
       "      <td>NaN</td>\n",
       "      <td>NaN</td>\n",
       "      <td>3.351</td>\n",
       "      <td>2.000</td>\n",
       "    </tr>\n",
       "    <tr>\n",
       "      <th>6133</th>\n",
       "      <td>tm1260999</td>\n",
       "      <td>Sweetie</td>\n",
       "      <td>MOVIE</td>\n",
       "      <td>‘Theatre is my life,’ Yıldız Kenter admits in ...</td>\n",
       "      <td>2023</td>\n",
       "      <td>NaN</td>\n",
       "      <td>120</td>\n",
       "      <td>['documentation']</td>\n",
       "      <td>['TR']</td>\n",
       "      <td>NaN</td>\n",
       "      <td>tt26349328</td>\n",
       "      <td>7.9</td>\n",
       "      <td>209.0</td>\n",
       "      <td>2.450</td>\n",
       "      <td>7.200</td>\n",
       "    </tr>\n",
       "    <tr>\n",
       "      <th>6134</th>\n",
       "      <td>tm1310286</td>\n",
       "      <td>Sommore: Queen Chandelier</td>\n",
       "      <td>MOVIE</td>\n",
       "      <td>This Queen of Comedy shines as she takes the s...</td>\n",
       "      <td>2023</td>\n",
       "      <td>NaN</td>\n",
       "      <td>69</td>\n",
       "      <td>['comedy']</td>\n",
       "      <td>['US']</td>\n",
       "      <td>NaN</td>\n",
       "      <td>tt21033382</td>\n",
       "      <td>6.1</td>\n",
       "      <td>91.0</td>\n",
       "      <td>1.960</td>\n",
       "      <td>NaN</td>\n",
       "    </tr>\n",
       "    <tr>\n",
       "      <th>6135</th>\n",
       "      <td>tm1072700</td>\n",
       "      <td>All Na Vibes</td>\n",
       "      <td>MOVIE</td>\n",
       "      <td>The lives of three teenagers and a hit-man int...</td>\n",
       "      <td>2023</td>\n",
       "      <td>NaN</td>\n",
       "      <td>80</td>\n",
       "      <td>['drama']</td>\n",
       "      <td>['NG']</td>\n",
       "      <td>NaN</td>\n",
       "      <td>tt14922926</td>\n",
       "      <td>5.2</td>\n",
       "      <td>18.0</td>\n",
       "      <td>1.357</td>\n",
       "      <td>4.000</td>\n",
       "    </tr>\n",
       "    <tr>\n",
       "      <th>6136</th>\n",
       "      <td>tm561709</td>\n",
       "      <td>Going to Heaven</td>\n",
       "      <td>MOVIE</td>\n",
       "      <td>A story about young boy sultan, 11 years old l...</td>\n",
       "      <td>2023</td>\n",
       "      <td>NaN</td>\n",
       "      <td>90</td>\n",
       "      <td>['family']</td>\n",
       "      <td>['AE']</td>\n",
       "      <td>NaN</td>\n",
       "      <td>tt4623222</td>\n",
       "      <td>7.0</td>\n",
       "      <td>40.0</td>\n",
       "      <td>NaN</td>\n",
       "      <td>NaN</td>\n",
       "    </tr>\n",
       "  </tbody>\n",
       "</table>\n",
       "<p>6137 rows × 15 columns</p>\n",
       "</div>"
      ],
      "text/plain": [
       "             id                                title   type  \\\n",
       "0      ts300399  Five Came Back: The Reference Films   SHOW   \n",
       "1       tm82169                                Rocky  MOVIE   \n",
       "2       tm17823                               Grease  MOVIE   \n",
       "3      tm191099                            The Sting  MOVIE   \n",
       "4       tm69975                             Rocky II  MOVIE   \n",
       "...         ...                                  ...    ...   \n",
       "6132  tm1303784                        عبود في البيت  MOVIE   \n",
       "6133  tm1260999                              Sweetie  MOVIE   \n",
       "6134  tm1310286            Sommore: Queen Chandelier  MOVIE   \n",
       "6135  tm1072700                         All Na Vibes  MOVIE   \n",
       "6136   tm561709                      Going to Heaven  MOVIE   \n",
       "\n",
       "                                            description  release_year  \\\n",
       "0     This collection includes 12 World War II-era p...          1945   \n",
       "1     When world heavyweight boxing champion, Apollo...          1976   \n",
       "2     Australian good girl Sandy and greaser Danny f...          1978   \n",
       "3     A novice con man teams up with an acknowledged...          1973   \n",
       "4     After Rocky goes the distance with champ Apoll...          1979   \n",
       "...                                                 ...           ...   \n",
       "6132  Two young boys must work together to stop robb...          2023   \n",
       "6133  ‘Theatre is my life,’ Yıldız Kenter admits in ...          2023   \n",
       "6134  This Queen of Comedy shines as she takes the s...          2023   \n",
       "6135  The lives of three teenagers and a hit-man int...          2023   \n",
       "6136  A story about young boy sultan, 11 years old l...          2023   \n",
       "\n",
       "     age_certification  runtime                                 genres  \\\n",
       "0                TV-MA       51                      ['documentation']   \n",
       "1                   PG      119                     ['drama', 'sport']   \n",
       "2                   PG      110                  ['romance', 'comedy']   \n",
       "3                   PG      129  ['crime', 'drama', 'comedy', 'music']   \n",
       "4                   PG      119                     ['drama', 'sport']   \n",
       "...                ...      ...                                    ...   \n",
       "6132               NaN       81                   ['family', 'comedy']   \n",
       "6133               NaN      120                      ['documentation']   \n",
       "6134               NaN       69                             ['comedy']   \n",
       "6135               NaN       80                              ['drama']   \n",
       "6136               NaN       90                             ['family']   \n",
       "\n",
       "     production_countries  seasons     imdb_id  imdb_score  imdb_votes  \\\n",
       "0                  ['US']      1.0         NaN         NaN         NaN   \n",
       "1                  ['US']      NaN   tt0075148         8.1    588100.0   \n",
       "2                  ['US']      NaN   tt0077631         7.2    283316.0   \n",
       "3                  ['US']      NaN   tt0070735         8.3    266738.0   \n",
       "4                  ['US']      NaN   tt0079817         7.3    216307.0   \n",
       "...                   ...      ...         ...         ...         ...   \n",
       "6132               ['KW']      NaN         NaN         NaN         NaN   \n",
       "6133               ['TR']      NaN  tt26349328         7.9       209.0   \n",
       "6134               ['US']      NaN  tt21033382         6.1        91.0   \n",
       "6135               ['NG']      NaN  tt14922926         5.2        18.0   \n",
       "6136               ['AE']      NaN   tt4623222         7.0        40.0   \n",
       "\n",
       "      tmdb_popularity  tmdb_score  \n",
       "0               0.601         NaN  \n",
       "1             106.361       7.782  \n",
       "2              33.160       7.406  \n",
       "3              24.616       8.020  \n",
       "4              75.699       7.246  \n",
       "...               ...         ...  \n",
       "6132            3.351       2.000  \n",
       "6133            2.450       7.200  \n",
       "6134            1.960         NaN  \n",
       "6135            1.357       4.000  \n",
       "6136              NaN         NaN  \n",
       "\n",
       "[6137 rows x 15 columns]"
      ]
     },
     "execution_count": 3,
     "metadata": {},
     "output_type": "execute_result"
    }
   ],
   "source": [
    "df = pd.read_csv('/kaggle/input/netflix-movies-and-tv-shows/titles.csv')\n",
    "df"
   ]
  },
  {
   "cell_type": "code",
   "execution_count": 4,
   "id": "173d3ef9",
   "metadata": {
    "execution": {
     "iopub.execute_input": "2023-04-02T07:53:06.869540Z",
     "iopub.status.busy": "2023-04-02T07:53:06.869002Z",
     "iopub.status.idle": "2023-04-02T07:53:06.897626Z",
     "shell.execute_reply": "2023-04-02T07:53:06.895978Z"
    },
    "papermill": {
     "duration": 0.043,
     "end_time": "2023-04-02T07:53:06.900411",
     "exception": false,
     "start_time": "2023-04-02T07:53:06.857411",
     "status": "completed"
    },
    "tags": []
   },
   "outputs": [
    {
     "name": "stdout",
     "output_type": "stream",
     "text": [
      "<class 'pandas.core.frame.DataFrame'>\n",
      "RangeIndex: 6137 entries, 0 to 6136\n",
      "Data columns (total 15 columns):\n",
      " #   Column                Non-Null Count  Dtype  \n",
      "---  ------                --------------  -----  \n",
      " 0   id                    6137 non-null   object \n",
      " 1   title                 6137 non-null   object \n",
      " 2   type                  6137 non-null   object \n",
      " 3   description           6114 non-null   object \n",
      " 4   release_year          6137 non-null   int64  \n",
      " 5   age_certification     3394 non-null   object \n",
      " 6   runtime               6137 non-null   int64  \n",
      " 7   genres                6137 non-null   object \n",
      " 8   production_countries  6137 non-null   object \n",
      " 9   seasons               2306 non-null   float64\n",
      " 10  imdb_id               5741 non-null   object \n",
      " 11  imdb_score            5669 non-null   float64\n",
      " 12  imdb_votes            5653 non-null   float64\n",
      " 13  tmdb_popularity       6061 non-null   float64\n",
      " 14  tmdb_score            5885 non-null   float64\n",
      "dtypes: float64(5), int64(2), object(8)\n",
      "memory usage: 719.3+ KB\n"
     ]
    }
   ],
   "source": [
    "# 기본 정보 확인\n",
    "df.info()"
   ]
  },
  {
   "cell_type": "code",
   "execution_count": 5,
   "id": "901e4787",
   "metadata": {
    "execution": {
     "iopub.execute_input": "2023-04-02T07:53:06.923516Z",
     "iopub.status.busy": "2023-04-02T07:53:06.922606Z",
     "iopub.status.idle": "2023-04-02T07:53:06.936407Z",
     "shell.execute_reply": "2023-04-02T07:53:06.935038Z"
    },
    "papermill": {
     "duration": 0.02863,
     "end_time": "2023-04-02T07:53:06.939172",
     "exception": false,
     "start_time": "2023-04-02T07:53:06.910542",
     "status": "completed"
    },
    "tags": []
   },
   "outputs": [
    {
     "data": {
      "text/plain": [
       "id                         0\n",
       "title                      0\n",
       "type                       0\n",
       "description               23\n",
       "release_year               0\n",
       "age_certification       2743\n",
       "runtime                    0\n",
       "genres                     0\n",
       "production_countries       0\n",
       "seasons                 3831\n",
       "imdb_id                  396\n",
       "imdb_score               468\n",
       "imdb_votes               484\n",
       "tmdb_popularity           76\n",
       "tmdb_score               252\n",
       "dtype: int64"
      ]
     },
     "execution_count": 5,
     "metadata": {},
     "output_type": "execute_result"
    }
   ],
   "source": [
    "# 각 컬럼별 결측치 개수\n",
    "df.isnull().sum()"
   ]
  },
  {
   "cell_type": "code",
   "execution_count": 6,
   "id": "56115908",
   "metadata": {
    "execution": {
     "iopub.execute_input": "2023-04-02T07:53:06.962005Z",
     "iopub.status.busy": "2023-04-02T07:53:06.961608Z",
     "iopub.status.idle": "2023-04-02T07:53:06.970846Z",
     "shell.execute_reply": "2023-04-02T07:53:06.969629Z"
    },
    "papermill": {
     "duration": 0.023799,
     "end_time": "2023-04-02T07:53:06.973659",
     "exception": false,
     "start_time": "2023-04-02T07:53:06.949860",
     "status": "completed"
    },
    "tags": []
   },
   "outputs": [
    {
     "data": {
      "text/plain": [
       "0       ['US']\n",
       "1       ['US']\n",
       "2       ['US']\n",
       "3       ['US']\n",
       "4       ['US']\n",
       "         ...  \n",
       "6132    ['KW']\n",
       "6133    ['TR']\n",
       "6134    ['US']\n",
       "6135    ['NG']\n",
       "6136    ['AE']\n",
       "Name: production_countries, Length: 6137, dtype: object"
      ]
     },
     "execution_count": 6,
     "metadata": {},
     "output_type": "execute_result"
    }
   ],
   "source": [
    "df['production_countries']"
   ]
  },
  {
   "cell_type": "code",
   "execution_count": 7,
   "id": "88043083",
   "metadata": {
    "execution": {
     "iopub.execute_input": "2023-04-02T07:53:06.998033Z",
     "iopub.status.busy": "2023-04-02T07:53:06.997242Z",
     "iopub.status.idle": "2023-04-02T07:53:07.030426Z",
     "shell.execute_reply": "2023-04-02T07:53:07.029290Z"
    },
    "papermill": {
     "duration": 0.04805,
     "end_time": "2023-04-02T07:53:07.033312",
     "exception": false,
     "start_time": "2023-04-02T07:53:06.985262",
     "status": "completed"
    },
    "tags": []
   },
   "outputs": [
    {
     "data": {
      "text/plain": [
       "0       US\n",
       "1       US\n",
       "2       US\n",
       "3       US\n",
       "4       US\n",
       "        ..\n",
       "6132    KW\n",
       "6133    TR\n",
       "6134    US\n",
       "6135    NG\n",
       "6136    AE\n",
       "Name: production_countries, Length: 6137, dtype: object"
      ]
     },
     "execution_count": 7,
     "metadata": {},
     "output_type": "execute_result"
    }
   ],
   "source": [
    "# production_countries의 US, GB 같은 값만 뽑아내기 위해 필요없는 문자열([, ', ])을 공백으로 바꿔주고, 값이 여러개 존재하면 첫번째 값만 취함\n",
    "df['production_countries'] = df['production_countries'].str.replace(\"[\",\"\").str.replace(\"'\",'').str.replace(\"'\",\"\").str.replace(\"]\",\"\").str.split(\",\").str[0]\n",
    "df['production_countries']"
   ]
  },
  {
   "cell_type": "code",
   "execution_count": 8,
   "id": "5ddb4f24",
   "metadata": {
    "execution": {
     "iopub.execute_input": "2023-04-02T07:53:07.056639Z",
     "iopub.status.busy": "2023-04-02T07:53:07.056227Z",
     "iopub.status.idle": "2023-04-02T07:53:07.067181Z",
     "shell.execute_reply": "2023-04-02T07:53:07.065846Z"
    },
    "papermill": {
     "duration": 0.025562,
     "end_time": "2023-04-02T07:53:07.069709",
     "exception": false,
     "start_time": "2023-04-02T07:53:07.044147",
     "status": "completed"
    },
    "tags": []
   },
   "outputs": [
    {
     "data": {
      "text/plain": [
       "US    2126\n",
       "IN     644\n",
       "GB     306\n",
       "JP     291\n",
       "KR     264\n",
       "      ... \n",
       "PR       1\n",
       "GL       1\n",
       "BY       1\n",
       "CU       1\n",
       "FO       1\n",
       "Name: production_countries, Length: 94, dtype: int64"
      ]
     },
     "execution_count": 8,
     "metadata": {},
     "output_type": "execute_result"
    }
   ],
   "source": [
    "# 각 국가별 작품 개수\n",
    "df['production_countries'].value_counts()"
   ]
  },
  {
   "cell_type": "code",
   "execution_count": 9,
   "id": "ab6b121b",
   "metadata": {
    "execution": {
     "iopub.execute_input": "2023-04-02T07:53:07.092727Z",
     "iopub.status.busy": "2023-04-02T07:53:07.092322Z",
     "iopub.status.idle": "2023-04-02T07:53:07.130150Z",
     "shell.execute_reply": "2023-04-02T07:53:07.129096Z"
    },
    "papermill": {
     "duration": 0.052685,
     "end_time": "2023-04-02T07:53:07.133023",
     "exception": false,
     "start_time": "2023-04-02T07:53:07.080338",
     "status": "completed"
    },
    "tags": []
   },
   "outputs": [
    {
     "data": {
      "text/plain": [
       "0       documentation\n",
       "1               drama\n",
       "2             romance\n",
       "3               crime\n",
       "4               drama\n",
       "            ...      \n",
       "6132           family\n",
       "6133    documentation\n",
       "6134           comedy\n",
       "6135            drama\n",
       "6136           family\n",
       "Name: genres, Length: 6137, dtype: object"
      ]
     },
     "execution_count": 9,
     "metadata": {},
     "output_type": "execute_result"
    }
   ],
   "source": [
    "# genres도 preduction_countries와 같은 방법으로 값만 추출하여 첫번째 값만 사용\n",
    "df['genres'] = df['genres'].str.replace(\"[\",\"\").str.replace(\"'\",'').str.replace(\"'\",\"\").str.replace(\"]\",\"\").str.split(\",\").str[0]\n",
    "df['genres']"
   ]
  },
  {
   "cell_type": "code",
   "execution_count": 10,
   "id": "ea830fc3",
   "metadata": {
    "execution": {
     "iopub.execute_input": "2023-04-02T07:53:07.156903Z",
     "iopub.status.busy": "2023-04-02T07:53:07.156460Z",
     "iopub.status.idle": "2023-04-02T07:53:07.168651Z",
     "shell.execute_reply": "2023-04-02T07:53:07.167308Z"
    },
    "papermill": {
     "duration": 0.027363,
     "end_time": "2023-04-02T07:53:07.171764",
     "exception": false,
     "start_time": "2023-04-02T07:53:07.144401",
     "status": "completed"
    },
    "tags": []
   },
   "outputs": [
    {
     "data": {
      "text/plain": [
       "1.0     1396\n",
       "2.0      407\n",
       "3.0      195\n",
       "4.0      118\n",
       "5.0       72\n",
       "6.0       40\n",
       "7.0       20\n",
       "9.0       11\n",
       "8.0        8\n",
       "10.0       7\n",
       "11.0       6\n",
       "12.0       4\n",
       "24.0       3\n",
       "16.0       3\n",
       "21.0       2\n",
       "33.0       2\n",
       "19.0       2\n",
       "13.0       2\n",
       "44.0       1\n",
       "29.0       1\n",
       "14.0       1\n",
       "20.0       1\n",
       "15.0       1\n",
       "34.0       1\n",
       "31.0       1\n",
       "25.0       1\n",
       "Name: seasons, dtype: int64"
      ]
     },
     "execution_count": 10,
     "metadata": {},
     "output_type": "execute_result"
    }
   ],
   "source": [
    "# seasons의 값 확인\n",
    "df['seasons'].value_counts()"
   ]
  },
  {
   "cell_type": "code",
   "execution_count": 11,
   "id": "c79dd8ba",
   "metadata": {
    "execution": {
     "iopub.execute_input": "2023-04-02T07:53:07.196593Z",
     "iopub.status.busy": "2023-04-02T07:53:07.196166Z",
     "iopub.status.idle": "2023-04-02T07:53:07.202069Z",
     "shell.execute_reply": "2023-04-02T07:53:07.200960Z"
    },
    "papermill": {
     "duration": 0.021459,
     "end_time": "2023-04-02T07:53:07.204487",
     "exception": false,
     "start_time": "2023-04-02T07:53:07.183028",
     "status": "completed"
    },
    "tags": []
   },
   "outputs": [],
   "source": [
    "# seasons 결측치를 최빈값인 1.0으로 대체\n",
    "df['seasons'].fillna(1.0, inplace=True)"
   ]
  },
  {
   "cell_type": "code",
   "execution_count": 12,
   "id": "4a4cf7cf",
   "metadata": {
    "execution": {
     "iopub.execute_input": "2023-04-02T07:53:07.228718Z",
     "iopub.status.busy": "2023-04-02T07:53:07.228302Z",
     "iopub.status.idle": "2023-04-02T07:53:07.236363Z",
     "shell.execute_reply": "2023-04-02T07:53:07.235157Z"
    },
    "papermill": {
     "duration": 0.0233,
     "end_time": "2023-04-02T07:53:07.238840",
     "exception": false,
     "start_time": "2023-04-02T07:53:07.215540",
     "status": "completed"
    },
    "tags": []
   },
   "outputs": [
    {
     "data": {
      "text/plain": [
       "0"
      ]
     },
     "execution_count": 12,
     "metadata": {},
     "output_type": "execute_result"
    }
   ],
   "source": [
    "# 결측치 확인(1.0으로 대체 했으므로 0개임을 볼 수 있음)\n",
    "df['seasons'].isnull().sum()"
   ]
  },
  {
   "cell_type": "code",
   "execution_count": 13,
   "id": "b8b0c148",
   "metadata": {
    "execution": {
     "iopub.execute_input": "2023-04-02T07:53:07.262776Z",
     "iopub.status.busy": "2023-04-02T07:53:07.262377Z",
     "iopub.status.idle": "2023-04-02T07:53:07.270655Z",
     "shell.execute_reply": "2023-04-02T07:53:07.269281Z"
    },
    "papermill": {
     "duration": 0.023273,
     "end_time": "2023-04-02T07:53:07.273101",
     "exception": false,
     "start_time": "2023-04-02T07:53:07.249828",
     "status": "completed"
    },
    "tags": []
   },
   "outputs": [
    {
     "data": {
      "text/plain": [
       "484"
      ]
     },
     "execution_count": 13,
     "metadata": {},
     "output_type": "execute_result"
    }
   ],
   "source": [
    "# imdb_votes의 결측치 개수\n",
    "df['imdb_votes'].isnull().sum()"
   ]
  },
  {
   "cell_type": "code",
   "execution_count": 14,
   "id": "b4151477",
   "metadata": {
    "execution": {
     "iopub.execute_input": "2023-04-02T07:53:07.297395Z",
     "iopub.status.busy": "2023-04-02T07:53:07.296546Z",
     "iopub.status.idle": "2023-04-02T07:53:07.306279Z",
     "shell.execute_reply": "2023-04-02T07:53:07.304885Z"
    },
    "papermill": {
     "duration": 0.024918,
     "end_time": "2023-04-02T07:53:07.309086",
     "exception": false,
     "start_time": "2023-04-02T07:53:07.284168",
     "status": "completed"
    },
    "tags": []
   },
   "outputs": [
    {
     "data": {
      "text/plain": [
       "(2684317.0, 5.0)"
      ]
     },
     "execution_count": 14,
     "metadata": {},
     "output_type": "execute_result"
    }
   ],
   "source": [
    "# imdb_votes 최댓값, 최솟값\n",
    "df['imdb_votes'].max(), df['imdb_votes'].min()"
   ]
  },
  {
   "cell_type": "code",
   "execution_count": 15,
   "id": "4e2a8ecf",
   "metadata": {
    "execution": {
     "iopub.execute_input": "2023-04-02T07:53:07.333897Z",
     "iopub.status.busy": "2023-04-02T07:53:07.333492Z",
     "iopub.status.idle": "2023-04-02T07:53:07.340592Z",
     "shell.execute_reply": "2023-04-02T07:53:07.339452Z"
    },
    "papermill": {
     "duration": 0.022977,
     "end_time": "2023-04-02T07:53:07.343344",
     "exception": false,
     "start_time": "2023-04-02T07:53:07.320367",
     "status": "completed"
    },
    "tags": []
   },
   "outputs": [
    {
     "data": {
      "text/plain": [
       "21150.29081903414"
      ]
     },
     "execution_count": 15,
     "metadata": {},
     "output_type": "execute_result"
    }
   ],
   "source": [
    "# imdb_votes 평균값\n",
    "df['imdb_votes'].mean()"
   ]
  },
  {
   "cell_type": "markdown",
   "id": "c14ed6c1",
   "metadata": {
    "papermill": {
     "duration": 0.01086,
     "end_time": "2023-04-02T07:53:07.365504",
     "exception": false,
     "start_time": "2023-04-02T07:53:07.354644",
     "status": "completed"
    },
    "tags": []
   },
   "source": [
    "최솟값에 비해 평균값이 꽤 높아, 결측치를 평균값으로 대체하지 않고 결측치가 아닌 데이터만 사용"
   ]
  },
  {
   "cell_type": "code",
   "execution_count": 16,
   "id": "b991736d",
   "metadata": {
    "execution": {
     "iopub.execute_input": "2023-04-02T07:53:07.390006Z",
     "iopub.status.busy": "2023-04-02T07:53:07.389168Z",
     "iopub.status.idle": "2023-04-02T07:53:07.422729Z",
     "shell.execute_reply": "2023-04-02T07:53:07.421796Z"
    },
    "papermill": {
     "duration": 0.048566,
     "end_time": "2023-04-02T07:53:07.425171",
     "exception": false,
     "start_time": "2023-04-02T07:53:07.376605",
     "status": "completed"
    },
    "tags": []
   },
   "outputs": [
    {
     "data": {
      "text/html": [
       "<div>\n",
       "<style scoped>\n",
       "    .dataframe tbody tr th:only-of-type {\n",
       "        vertical-align: middle;\n",
       "    }\n",
       "\n",
       "    .dataframe tbody tr th {\n",
       "        vertical-align: top;\n",
       "    }\n",
       "\n",
       "    .dataframe thead th {\n",
       "        text-align: right;\n",
       "    }\n",
       "</style>\n",
       "<table border=\"1\" class=\"dataframe\">\n",
       "  <thead>\n",
       "    <tr style=\"text-align: right;\">\n",
       "      <th></th>\n",
       "      <th>id</th>\n",
       "      <th>title</th>\n",
       "      <th>type</th>\n",
       "      <th>description</th>\n",
       "      <th>release_year</th>\n",
       "      <th>age_certification</th>\n",
       "      <th>runtime</th>\n",
       "      <th>genres</th>\n",
       "      <th>production_countries</th>\n",
       "      <th>seasons</th>\n",
       "      <th>imdb_id</th>\n",
       "      <th>imdb_score</th>\n",
       "      <th>imdb_votes</th>\n",
       "      <th>tmdb_popularity</th>\n",
       "      <th>tmdb_score</th>\n",
       "    </tr>\n",
       "  </thead>\n",
       "  <tbody>\n",
       "    <tr>\n",
       "      <th>1</th>\n",
       "      <td>tm82169</td>\n",
       "      <td>Rocky</td>\n",
       "      <td>MOVIE</td>\n",
       "      <td>When world heavyweight boxing champion, Apollo...</td>\n",
       "      <td>1976</td>\n",
       "      <td>PG</td>\n",
       "      <td>119</td>\n",
       "      <td>drama</td>\n",
       "      <td>US</td>\n",
       "      <td>1.0</td>\n",
       "      <td>tt0075148</td>\n",
       "      <td>8.1</td>\n",
       "      <td>588100.0</td>\n",
       "      <td>106.361</td>\n",
       "      <td>7.782</td>\n",
       "    </tr>\n",
       "    <tr>\n",
       "      <th>2</th>\n",
       "      <td>tm17823</td>\n",
       "      <td>Grease</td>\n",
       "      <td>MOVIE</td>\n",
       "      <td>Australian good girl Sandy and greaser Danny f...</td>\n",
       "      <td>1978</td>\n",
       "      <td>PG</td>\n",
       "      <td>110</td>\n",
       "      <td>romance</td>\n",
       "      <td>US</td>\n",
       "      <td>1.0</td>\n",
       "      <td>tt0077631</td>\n",
       "      <td>7.2</td>\n",
       "      <td>283316.0</td>\n",
       "      <td>33.160</td>\n",
       "      <td>7.406</td>\n",
       "    </tr>\n",
       "    <tr>\n",
       "      <th>3</th>\n",
       "      <td>tm191099</td>\n",
       "      <td>The Sting</td>\n",
       "      <td>MOVIE</td>\n",
       "      <td>A novice con man teams up with an acknowledged...</td>\n",
       "      <td>1973</td>\n",
       "      <td>PG</td>\n",
       "      <td>129</td>\n",
       "      <td>crime</td>\n",
       "      <td>US</td>\n",
       "      <td>1.0</td>\n",
       "      <td>tt0070735</td>\n",
       "      <td>8.3</td>\n",
       "      <td>266738.0</td>\n",
       "      <td>24.616</td>\n",
       "      <td>8.020</td>\n",
       "    </tr>\n",
       "    <tr>\n",
       "      <th>4</th>\n",
       "      <td>tm69975</td>\n",
       "      <td>Rocky II</td>\n",
       "      <td>MOVIE</td>\n",
       "      <td>After Rocky goes the distance with champ Apoll...</td>\n",
       "      <td>1979</td>\n",
       "      <td>PG</td>\n",
       "      <td>119</td>\n",
       "      <td>drama</td>\n",
       "      <td>US</td>\n",
       "      <td>1.0</td>\n",
       "      <td>tt0079817</td>\n",
       "      <td>7.3</td>\n",
       "      <td>216307.0</td>\n",
       "      <td>75.699</td>\n",
       "      <td>7.246</td>\n",
       "    </tr>\n",
       "    <tr>\n",
       "      <th>5</th>\n",
       "      <td>tm127384</td>\n",
       "      <td>Monty Python and the Holy Grail</td>\n",
       "      <td>MOVIE</td>\n",
       "      <td>King Arthur, accompanied by his squire, recrui...</td>\n",
       "      <td>1975</td>\n",
       "      <td>PG</td>\n",
       "      <td>91</td>\n",
       "      <td>fantasy</td>\n",
       "      <td>GB</td>\n",
       "      <td>1.0</td>\n",
       "      <td>tt0071853</td>\n",
       "      <td>8.2</td>\n",
       "      <td>547292.0</td>\n",
       "      <td>20.964</td>\n",
       "      <td>7.804</td>\n",
       "    </tr>\n",
       "    <tr>\n",
       "      <th>...</th>\n",
       "      <td>...</td>\n",
       "      <td>...</td>\n",
       "      <td>...</td>\n",
       "      <td>...</td>\n",
       "      <td>...</td>\n",
       "      <td>...</td>\n",
       "      <td>...</td>\n",
       "      <td>...</td>\n",
       "      <td>...</td>\n",
       "      <td>...</td>\n",
       "      <td>...</td>\n",
       "      <td>...</td>\n",
       "      <td>...</td>\n",
       "      <td>...</td>\n",
       "      <td>...</td>\n",
       "    </tr>\n",
       "    <tr>\n",
       "      <th>6130</th>\n",
       "      <td>tm1299701</td>\n",
       "      <td>Dr Jason Leong: Ride with Caution</td>\n",
       "      <td>MOVIE</td>\n",
       "      <td>The comic shares his diagnoses on ageing, the ...</td>\n",
       "      <td>2023</td>\n",
       "      <td>NaN</td>\n",
       "      <td>65</td>\n",
       "      <td>comedy</td>\n",
       "      <td>MY</td>\n",
       "      <td>1.0</td>\n",
       "      <td>tt26340263</td>\n",
       "      <td>5.9</td>\n",
       "      <td>102.0</td>\n",
       "      <td>5.379</td>\n",
       "      <td>2.000</td>\n",
       "    </tr>\n",
       "    <tr>\n",
       "      <th>6133</th>\n",
       "      <td>tm1260999</td>\n",
       "      <td>Sweetie</td>\n",
       "      <td>MOVIE</td>\n",
       "      <td>‘Theatre is my life,’ Yıldız Kenter admits in ...</td>\n",
       "      <td>2023</td>\n",
       "      <td>NaN</td>\n",
       "      <td>120</td>\n",
       "      <td>documentation</td>\n",
       "      <td>TR</td>\n",
       "      <td>1.0</td>\n",
       "      <td>tt26349328</td>\n",
       "      <td>7.9</td>\n",
       "      <td>209.0</td>\n",
       "      <td>2.450</td>\n",
       "      <td>7.200</td>\n",
       "    </tr>\n",
       "    <tr>\n",
       "      <th>6134</th>\n",
       "      <td>tm1310286</td>\n",
       "      <td>Sommore: Queen Chandelier</td>\n",
       "      <td>MOVIE</td>\n",
       "      <td>This Queen of Comedy shines as she takes the s...</td>\n",
       "      <td>2023</td>\n",
       "      <td>NaN</td>\n",
       "      <td>69</td>\n",
       "      <td>comedy</td>\n",
       "      <td>US</td>\n",
       "      <td>1.0</td>\n",
       "      <td>tt21033382</td>\n",
       "      <td>6.1</td>\n",
       "      <td>91.0</td>\n",
       "      <td>1.960</td>\n",
       "      <td>NaN</td>\n",
       "    </tr>\n",
       "    <tr>\n",
       "      <th>6135</th>\n",
       "      <td>tm1072700</td>\n",
       "      <td>All Na Vibes</td>\n",
       "      <td>MOVIE</td>\n",
       "      <td>The lives of three teenagers and a hit-man int...</td>\n",
       "      <td>2023</td>\n",
       "      <td>NaN</td>\n",
       "      <td>80</td>\n",
       "      <td>drama</td>\n",
       "      <td>NG</td>\n",
       "      <td>1.0</td>\n",
       "      <td>tt14922926</td>\n",
       "      <td>5.2</td>\n",
       "      <td>18.0</td>\n",
       "      <td>1.357</td>\n",
       "      <td>4.000</td>\n",
       "    </tr>\n",
       "    <tr>\n",
       "      <th>6136</th>\n",
       "      <td>tm561709</td>\n",
       "      <td>Going to Heaven</td>\n",
       "      <td>MOVIE</td>\n",
       "      <td>A story about young boy sultan, 11 years old l...</td>\n",
       "      <td>2023</td>\n",
       "      <td>NaN</td>\n",
       "      <td>90</td>\n",
       "      <td>family</td>\n",
       "      <td>AE</td>\n",
       "      <td>1.0</td>\n",
       "      <td>tt4623222</td>\n",
       "      <td>7.0</td>\n",
       "      <td>40.0</td>\n",
       "      <td>NaN</td>\n",
       "      <td>NaN</td>\n",
       "    </tr>\n",
       "  </tbody>\n",
       "</table>\n",
       "<p>5653 rows × 15 columns</p>\n",
       "</div>"
      ],
      "text/plain": [
       "             id                              title   type  \\\n",
       "1       tm82169                              Rocky  MOVIE   \n",
       "2       tm17823                             Grease  MOVIE   \n",
       "3      tm191099                          The Sting  MOVIE   \n",
       "4       tm69975                           Rocky II  MOVIE   \n",
       "5      tm127384    Monty Python and the Holy Grail  MOVIE   \n",
       "...         ...                                ...    ...   \n",
       "6130  tm1299701  Dr Jason Leong: Ride with Caution  MOVIE   \n",
       "6133  tm1260999                            Sweetie  MOVIE   \n",
       "6134  tm1310286          Sommore: Queen Chandelier  MOVIE   \n",
       "6135  tm1072700                       All Na Vibes  MOVIE   \n",
       "6136   tm561709                    Going to Heaven  MOVIE   \n",
       "\n",
       "                                            description  release_year  \\\n",
       "1     When world heavyweight boxing champion, Apollo...          1976   \n",
       "2     Australian good girl Sandy and greaser Danny f...          1978   \n",
       "3     A novice con man teams up with an acknowledged...          1973   \n",
       "4     After Rocky goes the distance with champ Apoll...          1979   \n",
       "5     King Arthur, accompanied by his squire, recrui...          1975   \n",
       "...                                                 ...           ...   \n",
       "6130  The comic shares his diagnoses on ageing, the ...          2023   \n",
       "6133  ‘Theatre is my life,’ Yıldız Kenter admits in ...          2023   \n",
       "6134  This Queen of Comedy shines as she takes the s...          2023   \n",
       "6135  The lives of three teenagers and a hit-man int...          2023   \n",
       "6136  A story about young boy sultan, 11 years old l...          2023   \n",
       "\n",
       "     age_certification  runtime         genres production_countries  seasons  \\\n",
       "1                   PG      119          drama                   US      1.0   \n",
       "2                   PG      110        romance                   US      1.0   \n",
       "3                   PG      129          crime                   US      1.0   \n",
       "4                   PG      119          drama                   US      1.0   \n",
       "5                   PG       91        fantasy                   GB      1.0   \n",
       "...                ...      ...            ...                  ...      ...   \n",
       "6130               NaN       65         comedy                   MY      1.0   \n",
       "6133               NaN      120  documentation                   TR      1.0   \n",
       "6134               NaN       69         comedy                   US      1.0   \n",
       "6135               NaN       80          drama                   NG      1.0   \n",
       "6136               NaN       90         family                   AE      1.0   \n",
       "\n",
       "         imdb_id  imdb_score  imdb_votes  tmdb_popularity  tmdb_score  \n",
       "1      tt0075148         8.1    588100.0          106.361       7.782  \n",
       "2      tt0077631         7.2    283316.0           33.160       7.406  \n",
       "3      tt0070735         8.3    266738.0           24.616       8.020  \n",
       "4      tt0079817         7.3    216307.0           75.699       7.246  \n",
       "5      tt0071853         8.2    547292.0           20.964       7.804  \n",
       "...          ...         ...         ...              ...         ...  \n",
       "6130  tt26340263         5.9       102.0            5.379       2.000  \n",
       "6133  tt26349328         7.9       209.0            2.450       7.200  \n",
       "6134  tt21033382         6.1        91.0            1.960         NaN  \n",
       "6135  tt14922926         5.2        18.0            1.357       4.000  \n",
       "6136   tt4623222         7.0        40.0              NaN         NaN  \n",
       "\n",
       "[5653 rows x 15 columns]"
      ]
     },
     "execution_count": 16,
     "metadata": {},
     "output_type": "execute_result"
    }
   ],
   "source": [
    "# imdb_votes가 0보다 큰 값만 사용(= imdb_votes에 결측치가 있는 데이터는 사용하지 않음)\n",
    "df = df[df['imdb_votes'] > 0]\n",
    "df"
   ]
  },
  {
   "cell_type": "markdown",
   "id": "43e1bd4c",
   "metadata": {
    "papermill": {
     "duration": 0.011571,
     "end_time": "2023-04-02T07:53:07.448930",
     "exception": false,
     "start_time": "2023-04-02T07:53:07.437359",
     "status": "completed"
    },
    "tags": []
   },
   "source": [
    "## SHOW 작품의 seasons과 imdb_votes간의 관계"
   ]
  },
  {
   "cell_type": "code",
   "execution_count": 17,
   "id": "b088b007",
   "metadata": {
    "execution": {
     "iopub.execute_input": "2023-04-02T07:53:07.475852Z",
     "iopub.status.busy": "2023-04-02T07:53:07.474546Z",
     "iopub.status.idle": "2023-04-02T07:53:07.506625Z",
     "shell.execute_reply": "2023-04-02T07:53:07.505308Z"
    },
    "papermill": {
     "duration": 0.048009,
     "end_time": "2023-04-02T07:53:07.508888",
     "exception": false,
     "start_time": "2023-04-02T07:53:07.460879",
     "status": "completed"
    },
    "tags": []
   },
   "outputs": [
    {
     "data": {
      "text/html": [
       "<div>\n",
       "<style scoped>\n",
       "    .dataframe tbody tr th:only-of-type {\n",
       "        vertical-align: middle;\n",
       "    }\n",
       "\n",
       "    .dataframe tbody tr th {\n",
       "        vertical-align: top;\n",
       "    }\n",
       "\n",
       "    .dataframe thead th {\n",
       "        text-align: right;\n",
       "    }\n",
       "</style>\n",
       "<table border=\"1\" class=\"dataframe\">\n",
       "  <thead>\n",
       "    <tr style=\"text-align: right;\">\n",
       "      <th></th>\n",
       "      <th>id</th>\n",
       "      <th>title</th>\n",
       "      <th>type</th>\n",
       "      <th>description</th>\n",
       "      <th>release_year</th>\n",
       "      <th>age_certification</th>\n",
       "      <th>runtime</th>\n",
       "      <th>genres</th>\n",
       "      <th>production_countries</th>\n",
       "      <th>seasons</th>\n",
       "      <th>imdb_id</th>\n",
       "      <th>imdb_score</th>\n",
       "      <th>imdb_votes</th>\n",
       "      <th>tmdb_popularity</th>\n",
       "      <th>tmdb_score</th>\n",
       "    </tr>\n",
       "  </thead>\n",
       "  <tbody>\n",
       "    <tr>\n",
       "      <th>7</th>\n",
       "      <td>ts22164</td>\n",
       "      <td>Monty Python's Flying Circus</td>\n",
       "      <td>SHOW</td>\n",
       "      <td>A British sketch comedy series with the shows ...</td>\n",
       "      <td>1969</td>\n",
       "      <td>TV-14</td>\n",
       "      <td>30</td>\n",
       "      <td>comedy</td>\n",
       "      <td>GB</td>\n",
       "      <td>4.0</td>\n",
       "      <td>tt0063929</td>\n",
       "      <td>8.8</td>\n",
       "      <td>75654.0</td>\n",
       "      <td>24.773</td>\n",
       "      <td>8.258</td>\n",
       "    </tr>\n",
       "    <tr>\n",
       "      <th>17</th>\n",
       "      <td>ts45948</td>\n",
       "      <td>Monty Python's Fliegender Zirkus</td>\n",
       "      <td>SHOW</td>\n",
       "      <td>Monty Python's Fliegender Zirkus consisted of ...</td>\n",
       "      <td>1972</td>\n",
       "      <td>TV-MA</td>\n",
       "      <td>43</td>\n",
       "      <td>comedy</td>\n",
       "      <td>GB</td>\n",
       "      <td>1.0</td>\n",
       "      <td>tt0202477</td>\n",
       "      <td>8.1</td>\n",
       "      <td>2199.0</td>\n",
       "      <td>1.475</td>\n",
       "      <td>7.000</td>\n",
       "    </tr>\n",
       "    <tr>\n",
       "      <th>35</th>\n",
       "      <td>ts20681</td>\n",
       "      <td>Seinfeld</td>\n",
       "      <td>SHOW</td>\n",
       "      <td>A stand-up comedian and his three offbeat frie...</td>\n",
       "      <td>1989</td>\n",
       "      <td>TV-PG</td>\n",
       "      <td>24</td>\n",
       "      <td>comedy</td>\n",
       "      <td>US</td>\n",
       "      <td>9.0</td>\n",
       "      <td>tt0098904</td>\n",
       "      <td>8.9</td>\n",
       "      <td>326487.0</td>\n",
       "      <td>270.409</td>\n",
       "      <td>8.294</td>\n",
       "    </tr>\n",
       "    <tr>\n",
       "      <th>47</th>\n",
       "      <td>ts21715</td>\n",
       "      <td>Thomas &amp; Friends</td>\n",
       "      <td>SHOW</td>\n",
       "      <td>Thomas &amp; Friends is a British children's telev...</td>\n",
       "      <td>1984</td>\n",
       "      <td>TV-Y</td>\n",
       "      <td>10</td>\n",
       "      <td>animation</td>\n",
       "      <td>GB</td>\n",
       "      <td>24.0</td>\n",
       "      <td>tt13274684</td>\n",
       "      <td>6.5</td>\n",
       "      <td>5528.0</td>\n",
       "      <td>72.342</td>\n",
       "      <td>6.483</td>\n",
       "    </tr>\n",
       "    <tr>\n",
       "      <th>51</th>\n",
       "      <td>ts2760</td>\n",
       "      <td>Fireman Sam</td>\n",
       "      <td>SHOW</td>\n",
       "      <td>Follow the adventures of fireman Sam and his c...</td>\n",
       "      <td>1987</td>\n",
       "      <td>TV-Y</td>\n",
       "      <td>10</td>\n",
       "      <td>comedy</td>\n",
       "      <td>GB</td>\n",
       "      <td>13.0</td>\n",
       "      <td>tt0329829</td>\n",
       "      <td>6.1</td>\n",
       "      <td>1875.0</td>\n",
       "      <td>50.615</td>\n",
       "      <td>6.826</td>\n",
       "    </tr>\n",
       "    <tr>\n",
       "      <th>...</th>\n",
       "      <td>...</td>\n",
       "      <td>...</td>\n",
       "      <td>...</td>\n",
       "      <td>...</td>\n",
       "      <td>...</td>\n",
       "      <td>...</td>\n",
       "      <td>...</td>\n",
       "      <td>...</td>\n",
       "      <td>...</td>\n",
       "      <td>...</td>\n",
       "      <td>...</td>\n",
       "      <td>...</td>\n",
       "      <td>...</td>\n",
       "      <td>...</td>\n",
       "      <td>...</td>\n",
       "    </tr>\n",
       "    <tr>\n",
       "      <th>6105</th>\n",
       "      <td>ts373133</td>\n",
       "      <td>Karate Sheep</td>\n",
       "      <td>SHOW</td>\n",
       "      <td>Trico is an enthusiastic sheep who loves to sh...</td>\n",
       "      <td>2023</td>\n",
       "      <td>TV-G</td>\n",
       "      <td>10</td>\n",
       "      <td>comedy</td>\n",
       "      <td>DE</td>\n",
       "      <td>1.0</td>\n",
       "      <td>tt26238218</td>\n",
       "      <td>7.6</td>\n",
       "      <td>27.0</td>\n",
       "      <td>29.596</td>\n",
       "      <td>7.333</td>\n",
       "    </tr>\n",
       "    <tr>\n",
       "      <th>6108</th>\n",
       "      <td>ts367213</td>\n",
       "      <td>Class</td>\n",
       "      <td>SHOW</td>\n",
       "      <td>Three students from a poor neighborhood join a...</td>\n",
       "      <td>2023</td>\n",
       "      <td>TV-MA</td>\n",
       "      <td>51</td>\n",
       "      <td>drama</td>\n",
       "      <td>IN</td>\n",
       "      <td>1.0</td>\n",
       "      <td>tt22297684</td>\n",
       "      <td>6.2</td>\n",
       "      <td>2709.0</td>\n",
       "      <td>31.509</td>\n",
       "      <td>7.800</td>\n",
       "    </tr>\n",
       "    <tr>\n",
       "      <th>6109</th>\n",
       "      <td>ts367818</td>\n",
       "      <td>Bling Empire: New York</td>\n",
       "      <td>SHOW</td>\n",
       "      <td>Meet a fresh group of wealthy, sophisticated a...</td>\n",
       "      <td>2023</td>\n",
       "      <td>TV-MA</td>\n",
       "      <td>40</td>\n",
       "      <td>reality</td>\n",
       "      <td>US</td>\n",
       "      <td>1.0</td>\n",
       "      <td>tt22481904</td>\n",
       "      <td>5.2</td>\n",
       "      <td>376.0</td>\n",
       "      <td>6.621</td>\n",
       "      <td>NaN</td>\n",
       "    </tr>\n",
       "    <tr>\n",
       "      <th>6115</th>\n",
       "      <td>ts357026</td>\n",
       "      <td>Divorce Attorney Shin</td>\n",
       "      <td>SHOW</td>\n",
       "      <td>Tells the story of how 45-year-old divorce law...</td>\n",
       "      <td>2023</td>\n",
       "      <td>NaN</td>\n",
       "      <td>69</td>\n",
       "      <td>drama</td>\n",
       "      <td>KR</td>\n",
       "      <td>1.0</td>\n",
       "      <td>tt26225090</td>\n",
       "      <td>7.6</td>\n",
       "      <td>20.0</td>\n",
       "      <td>69.243</td>\n",
       "      <td>5.000</td>\n",
       "    </tr>\n",
       "    <tr>\n",
       "      <th>6122</th>\n",
       "      <td>ts364674</td>\n",
       "      <td>Princess Power</td>\n",
       "      <td>SHOW</td>\n",
       "      <td>Princess friends from four different Fruitdoms...</td>\n",
       "      <td>2023</td>\n",
       "      <td>TV-Y</td>\n",
       "      <td>15</td>\n",
       "      <td>family</td>\n",
       "      <td>US</td>\n",
       "      <td>1.0</td>\n",
       "      <td>tt22013036</td>\n",
       "      <td>7.0</td>\n",
       "      <td>60.0</td>\n",
       "      <td>6.319</td>\n",
       "      <td>8.500</td>\n",
       "    </tr>\n",
       "  </tbody>\n",
       "</table>\n",
       "<p>2143 rows × 15 columns</p>\n",
       "</div>"
      ],
      "text/plain": [
       "            id                             title  type  \\\n",
       "7      ts22164      Monty Python's Flying Circus  SHOW   \n",
       "17     ts45948  Monty Python's Fliegender Zirkus  SHOW   \n",
       "35     ts20681                          Seinfeld  SHOW   \n",
       "47     ts21715                  Thomas & Friends  SHOW   \n",
       "51      ts2760                       Fireman Sam  SHOW   \n",
       "...        ...                               ...   ...   \n",
       "6105  ts373133                      Karate Sheep  SHOW   \n",
       "6108  ts367213                             Class  SHOW   \n",
       "6109  ts367818            Bling Empire: New York  SHOW   \n",
       "6115  ts357026             Divorce Attorney Shin  SHOW   \n",
       "6122  ts364674                    Princess Power  SHOW   \n",
       "\n",
       "                                            description  release_year  \\\n",
       "7     A British sketch comedy series with the shows ...          1969   \n",
       "17    Monty Python's Fliegender Zirkus consisted of ...          1972   \n",
       "35    A stand-up comedian and his three offbeat frie...          1989   \n",
       "47    Thomas & Friends is a British children's telev...          1984   \n",
       "51    Follow the adventures of fireman Sam and his c...          1987   \n",
       "...                                                 ...           ...   \n",
       "6105  Trico is an enthusiastic sheep who loves to sh...          2023   \n",
       "6108  Three students from a poor neighborhood join a...          2023   \n",
       "6109  Meet a fresh group of wealthy, sophisticated a...          2023   \n",
       "6115  Tells the story of how 45-year-old divorce law...          2023   \n",
       "6122  Princess friends from four different Fruitdoms...          2023   \n",
       "\n",
       "     age_certification  runtime     genres production_countries  seasons  \\\n",
       "7                TV-14       30     comedy                   GB      4.0   \n",
       "17               TV-MA       43     comedy                   GB      1.0   \n",
       "35               TV-PG       24     comedy                   US      9.0   \n",
       "47                TV-Y       10  animation                   GB     24.0   \n",
       "51                TV-Y       10     comedy                   GB     13.0   \n",
       "...                ...      ...        ...                  ...      ...   \n",
       "6105              TV-G       10     comedy                   DE      1.0   \n",
       "6108             TV-MA       51      drama                   IN      1.0   \n",
       "6109             TV-MA       40    reality                   US      1.0   \n",
       "6115               NaN       69      drama                   KR      1.0   \n",
       "6122              TV-Y       15     family                   US      1.0   \n",
       "\n",
       "         imdb_id  imdb_score  imdb_votes  tmdb_popularity  tmdb_score  \n",
       "7      tt0063929         8.8     75654.0           24.773       8.258  \n",
       "17     tt0202477         8.1      2199.0            1.475       7.000  \n",
       "35     tt0098904         8.9    326487.0          270.409       8.294  \n",
       "47    tt13274684         6.5      5528.0           72.342       6.483  \n",
       "51     tt0329829         6.1      1875.0           50.615       6.826  \n",
       "...          ...         ...         ...              ...         ...  \n",
       "6105  tt26238218         7.6        27.0           29.596       7.333  \n",
       "6108  tt22297684         6.2      2709.0           31.509       7.800  \n",
       "6109  tt22481904         5.2       376.0            6.621         NaN  \n",
       "6115  tt26225090         7.6        20.0           69.243       5.000  \n",
       "6122  tt22013036         7.0        60.0            6.319       8.500  \n",
       "\n",
       "[2143 rows x 15 columns]"
      ]
     },
     "execution_count": 17,
     "metadata": {},
     "output_type": "execute_result"
    }
   ],
   "source": [
    "# type이 SHOW인 데이터를 tvshow로 저장\n",
    "tvshow = df[df['type'] == 'SHOW']\n",
    "tvshow"
   ]
  },
  {
   "cell_type": "markdown",
   "id": "9c2c31f6",
   "metadata": {
    "papermill": {
     "duration": 0.011629,
     "end_time": "2023-04-02T07:53:07.532771",
     "exception": false,
     "start_time": "2023-04-02T07:53:07.521142",
     "status": "completed"
    },
    "tags": []
   },
   "source": [
    "### barplot"
   ]
  },
  {
   "cell_type": "code",
   "execution_count": 18,
   "id": "ceb153fe",
   "metadata": {
    "execution": {
     "iopub.execute_input": "2023-04-02T07:53:07.559767Z",
     "iopub.status.busy": "2023-04-02T07:53:07.559034Z",
     "iopub.status.idle": "2023-04-02T07:53:07.945864Z",
     "shell.execute_reply": "2023-04-02T07:53:07.944765Z"
    },
    "papermill": {
     "duration": 0.404214,
     "end_time": "2023-04-02T07:53:07.949694",
     "exception": false,
     "start_time": "2023-04-02T07:53:07.545480",
     "status": "completed"
    },
    "tags": []
   },
   "outputs": [
    {
     "data": {
      "image/png": "[encoded data removed]",
      "text/plain": [
       "<Figure size 1500x400 with 1 Axes>"
      ]
     },
     "metadata": {},
     "output_type": "display_data"
    }
   ],
   "source": [
    "sns.barplot(data=tvshow, x='seasons', y='imdb_votes', estimator='mean', ci=None).set(title = 'season vs imdb_votes (mean)')\n",
    "fig=plt.gcf()\n",
    "fig.set_size_inches(15, 4)\n",
    "plt.show()"
   ]
  },
  {
   "cell_type": "code",
   "execution_count": 19,
   "id": "4df0673f",
   "metadata": {
    "execution": {
     "iopub.execute_input": "2023-04-02T07:53:07.978158Z",
     "iopub.status.busy": "2023-04-02T07:53:07.977677Z",
     "iopub.status.idle": "2023-04-02T07:53:08.332350Z",
     "shell.execute_reply": "2023-04-02T07:53:08.331151Z"
    },
    "papermill": {
     "duration": 0.371945,
     "end_time": "2023-04-02T07:53:08.335306",
     "exception": false,
     "start_time": "2023-04-02T07:53:07.963361",
     "status": "completed"
    },
    "tags": []
   },
   "outputs": [
    {
     "data": {
      "image/png": "[encoded data removed]",
      "text/plain": [
       "<Figure size 1500x400 with 1 Axes>"
      ]
     },
     "metadata": {},
     "output_type": "display_data"
    }
   ],
   "source": [
    "sns.barplot(data=tvshow, x='seasons', y='imdb_votes', estimator='max', ci=None).set(title = 'season vs imdb_votes (max)')\n",
    "fig=plt.gcf()\n",
    "fig.set_size_inches(15, 4)\n",
    "plt.show()"
   ]
  },
  {
   "cell_type": "code",
   "execution_count": 20,
   "id": "2eb0d5da",
   "metadata": {
    "execution": {
     "iopub.execute_input": "2023-04-02T07:53:08.365022Z",
     "iopub.status.busy": "2023-04-02T07:53:08.363811Z",
     "iopub.status.idle": "2023-04-02T07:53:08.719838Z",
     "shell.execute_reply": "2023-04-02T07:53:08.718510Z"
    },
    "papermill": {
     "duration": 0.373677,
     "end_time": "2023-04-02T07:53:08.722647",
     "exception": false,
     "start_time": "2023-04-02T07:53:08.348970",
     "status": "completed"
    },
    "tags": []
   },
   "outputs": [
    {
     "data": {
      "image/png": "[encoded data removed]",
      "text/plain": [
       "<Figure size 1500x400 with 1 Axes>"
      ]
     },
     "metadata": {},
     "output_type": "display_data"
    }
   ],
   "source": [
    "sns.barplot(data=tvshow, x='seasons', y='imdb_votes', estimator='min', ci=None).set(title = 'season vs imdb_votes (min)')\n",
    "fig=plt.gcf()\n",
    "fig.set_size_inches(15, 4)\n",
    "plt.show()"
   ]
  },
  {
   "cell_type": "markdown",
   "id": "863bd6a0",
   "metadata": {
    "papermill": {
     "duration": 0.013912,
     "end_time": "2023-04-02T07:53:08.750992",
     "exception": false,
     "start_time": "2023-04-02T07:53:08.737080",
     "status": "completed"
    },
    "tags": []
   },
   "source": [
    "### scatterplot"
   ]
  },
  {
   "cell_type": "code",
   "execution_count": 21,
   "id": "a223261e",
   "metadata": {
    "execution": {
     "iopub.execute_input": "2023-04-02T07:53:08.783277Z",
     "iopub.status.busy": "2023-04-02T07:53:08.781920Z",
     "iopub.status.idle": "2023-04-02T07:53:09.046962Z",
     "shell.execute_reply": "2023-04-02T07:53:09.045504Z"
    },
    "papermill": {
     "duration": 0.284823,
     "end_time": "2023-04-02T07:53:09.050095",
     "exception": false,
     "start_time": "2023-04-02T07:53:08.765272",
     "status": "completed"
    },
    "tags": []
   },
   "outputs": [
    {
     "data": {
      "image/png": "[encoded data removed]",
      "text/plain": [
       "<Figure size 1000x600 with 1 Axes>"
      ]
     },
     "metadata": {},
     "output_type": "display_data"
    }
   ],
   "source": [
    "sns.scatterplot(data=tvshow, x='seasons', y='imdb_votes')\n",
    "fig=plt.gcf()\n",
    "fig.set_size_inches(10,6)\n",
    "plt.show()"
   ]
  },
  {
   "cell_type": "markdown",
   "id": "f07d1be0",
   "metadata": {
    "papermill": {
     "duration": 0.015201,
     "end_time": "2023-04-02T07:53:09.080575",
     "exception": false,
     "start_time": "2023-04-02T07:53:09.065374",
     "status": "completed"
    },
    "tags": []
   },
   "source": [
    "### regplot\n",
    "- lowess=True 를 하면 추세선을 선형이 아닌 국소 회귀 기법으로 추세선을 그림\n",
    "- 이 기법은 부분 부분의 선형 추세를 찾은 다음에 그 추세들을 이어 매끄러운 곡선으로 만듦\n",
    "- regplot 기본값은 lowess=False -> 선형으로 나타남"
   ]
  },
  {
   "cell_type": "code",
   "execution_count": 22,
   "id": "e10f8f85",
   "metadata": {
    "execution": {
     "iopub.execute_input": "2023-04-02T07:53:09.113471Z",
     "iopub.status.busy": "2023-04-02T07:53:09.112321Z",
     "iopub.status.idle": "2023-04-02T07:53:09.417944Z",
     "shell.execute_reply": "2023-04-02T07:53:09.416801Z"
    },
    "papermill": {
     "duration": 0.324697,
     "end_time": "2023-04-02T07:53:09.420363",
     "exception": false,
     "start_time": "2023-04-02T07:53:09.095666",
     "status": "completed"
    },
    "tags": []
   },
   "outputs": [
    {
     "data": {
      "image/png": "[encoded data removed]",
      "text/plain": [
       "<Figure size 1500x600 with 1 Axes>"
      ]
     },
     "metadata": {},
     "output_type": "display_data"
    }
   ],
   "source": [
    "sns.regplot(data=tvshow, x='seasons', y='imdb_votes', lowess=True, line_kws={'color': 'red'})\n",
    "fig=plt.gcf()\n",
    "fig.set_size_inches(15,6)\n",
    "plt.show()"
   ]
  },
  {
   "cell_type": "markdown",
   "id": "81202809",
   "metadata": {
    "papermill": {
     "duration": 0.015572,
     "end_time": "2023-04-02T07:53:09.451977",
     "exception": false,
     "start_time": "2023-04-02T07:53:09.436405",
     "status": "completed"
    },
    "tags": []
   },
   "source": [
    "- barplot에서 시즌 19를 가지는 작품이 평균적으로 가장 높은 imdb_votes를 받은 것을 알 수 있다. \n",
    "  - 하지만, 가장 높은 imdb_votes는 시즌 5를 가지는 작품이다.\n",
    "- regplot의의 추세선을 통해 시즌 10 초반까지는 작품 시즌 개수가 증가할 수록 imdb_votes도 증가하는 추세로 보이며, 10 중반부터는 급격하게 imdb_votes가 하락하는 것을 알 수 있다."
   ]
  },
  {
   "cell_type": "markdown",
   "id": "183a0c68",
   "metadata": {
    "papermill": {
     "duration": 0.01551,
     "end_time": "2023-04-02T07:53:09.483388",
     "exception": false,
     "start_time": "2023-04-02T07:53:09.467878",
     "status": "completed"
    },
    "tags": []
   },
   "source": [
    "## 한국 SHOW 작품의 seasons과 imdb_votes 간의 관계"
   ]
  },
  {
   "cell_type": "code",
   "execution_count": 23,
   "id": "039c61af",
   "metadata": {
    "execution": {
     "iopub.execute_input": "2023-04-02T07:53:09.517398Z",
     "iopub.status.busy": "2023-04-02T07:53:09.516696Z",
     "iopub.status.idle": "2023-04-02T07:53:09.545950Z",
     "shell.execute_reply": "2023-04-02T07:53:09.544676Z"
    },
    "papermill": {
     "duration": 0.049222,
     "end_time": "2023-04-02T07:53:09.548438",
     "exception": false,
     "start_time": "2023-04-02T07:53:09.499216",
     "status": "completed"
    },
    "tags": []
   },
   "outputs": [
    {
     "data": {
      "text/html": [
       "<div>\n",
       "<style scoped>\n",
       "    .dataframe tbody tr th:only-of-type {\n",
       "        vertical-align: middle;\n",
       "    }\n",
       "\n",
       "    .dataframe tbody tr th {\n",
       "        vertical-align: top;\n",
       "    }\n",
       "\n",
       "    .dataframe thead th {\n",
       "        text-align: right;\n",
       "    }\n",
       "</style>\n",
       "<table border=\"1\" class=\"dataframe\">\n",
       "  <thead>\n",
       "    <tr style=\"text-align: right;\">\n",
       "      <th></th>\n",
       "      <th>id</th>\n",
       "      <th>title</th>\n",
       "      <th>type</th>\n",
       "      <th>description</th>\n",
       "      <th>release_year</th>\n",
       "      <th>age_certification</th>\n",
       "      <th>runtime</th>\n",
       "      <th>genres</th>\n",
       "      <th>production_countries</th>\n",
       "      <th>seasons</th>\n",
       "      <th>imdb_id</th>\n",
       "      <th>imdb_score</th>\n",
       "      <th>imdb_votes</th>\n",
       "      <th>tmdb_popularity</th>\n",
       "      <th>tmdb_score</th>\n",
       "    </tr>\n",
       "  </thead>\n",
       "  <tbody>\n",
       "    <tr>\n",
       "      <th>279</th>\n",
       "      <td>ts21688</td>\n",
       "      <td>Boys Over Flowers</td>\n",
       "      <td>SHOW</td>\n",
       "      <td>A working class girl winds up at an exclusive ...</td>\n",
       "      <td>2009</td>\n",
       "      <td>TV-14</td>\n",
       "      <td>64</td>\n",
       "      <td>comedy</td>\n",
       "      <td>KR</td>\n",
       "      <td>1.0</td>\n",
       "      <td>tt10442802</td>\n",
       "      <td>7.8</td>\n",
       "      <td>12768.0</td>\n",
       "      <td>61.901</td>\n",
       "      <td>8.269</td>\n",
       "    </tr>\n",
       "    <tr>\n",
       "      <th>389</th>\n",
       "      <td>ts56589</td>\n",
       "      <td>Tayo the Little Bus</td>\n",
       "      <td>SHOW</td>\n",
       "      <td>Tayo the Little Bus is a South Korean computer...</td>\n",
       "      <td>2010</td>\n",
       "      <td>TV-Y</td>\n",
       "      <td>11</td>\n",
       "      <td>animation</td>\n",
       "      <td>KR</td>\n",
       "      <td>6.0</td>\n",
       "      <td>tt3270208</td>\n",
       "      <td>5.3</td>\n",
       "      <td>165.0</td>\n",
       "      <td>6.235</td>\n",
       "      <td>5.250</td>\n",
       "    </tr>\n",
       "    <tr>\n",
       "      <th>396</th>\n",
       "      <td>ts31593</td>\n",
       "      <td>Pororo the Little Penguin</td>\n",
       "      <td>SHOW</td>\n",
       "      <td>Fun adventures await in the forest named Poron...</td>\n",
       "      <td>2003</td>\n",
       "      <td>NaN</td>\n",
       "      <td>10</td>\n",
       "      <td>family</td>\n",
       "      <td>KR</td>\n",
       "      <td>7.0</td>\n",
       "      <td>tt3968668</td>\n",
       "      <td>6.4</td>\n",
       "      <td>104.0</td>\n",
       "      <td>21.077</td>\n",
       "      <td>6.000</td>\n",
       "    </tr>\n",
       "    <tr>\n",
       "      <th>399</th>\n",
       "      <td>ts21695</td>\n",
       "      <td>Iris</td>\n",
       "      <td>SHOW</td>\n",
       "      <td>Two friends, members of the South Korean milit...</td>\n",
       "      <td>2009</td>\n",
       "      <td>TV-14</td>\n",
       "      <td>61</td>\n",
       "      <td>drama</td>\n",
       "      <td>KR</td>\n",
       "      <td>2.0</td>\n",
       "      <td>tt1757202</td>\n",
       "      <td>7.8</td>\n",
       "      <td>1951.0</td>\n",
       "      <td>12.879</td>\n",
       "      <td>7.648</td>\n",
       "    </tr>\n",
       "    <tr>\n",
       "      <th>637</th>\n",
       "      <td>ts33349</td>\n",
       "      <td>Robocar Poli</td>\n",
       "      <td>SHOW</td>\n",
       "      <td>Cartoon showing toddlers important life lesson...</td>\n",
       "      <td>2011</td>\n",
       "      <td>TV-Y</td>\n",
       "      <td>14</td>\n",
       "      <td>animation</td>\n",
       "      <td>KR</td>\n",
       "      <td>4.0</td>\n",
       "      <td>tt4763642</td>\n",
       "      <td>6.0</td>\n",
       "      <td>134.0</td>\n",
       "      <td>16.782</td>\n",
       "      <td>6.250</td>\n",
       "    </tr>\n",
       "    <tr>\n",
       "      <th>...</th>\n",
       "      <td>...</td>\n",
       "      <td>...</td>\n",
       "      <td>...</td>\n",
       "      <td>...</td>\n",
       "      <td>...</td>\n",
       "      <td>...</td>\n",
       "      <td>...</td>\n",
       "      <td>...</td>\n",
       "      <td>...</td>\n",
       "      <td>...</td>\n",
       "      <td>...</td>\n",
       "      <td>...</td>\n",
       "      <td>...</td>\n",
       "      <td>...</td>\n",
       "      <td>...</td>\n",
       "    </tr>\n",
       "    <tr>\n",
       "      <th>6047</th>\n",
       "      <td>ts367138</td>\n",
       "      <td>Physical: 100</td>\n",
       "      <td>SHOW</td>\n",
       "      <td>In this fierce fitness competition, one hundre...</td>\n",
       "      <td>2023</td>\n",
       "      <td>TV-14</td>\n",
       "      <td>65</td>\n",
       "      <td>reality</td>\n",
       "      <td>KR</td>\n",
       "      <td>1.0</td>\n",
       "      <td>tt25274446</td>\n",
       "      <td>7.7</td>\n",
       "      <td>5194.0</td>\n",
       "      <td>37.031</td>\n",
       "      <td>7.867</td>\n",
       "    </tr>\n",
       "    <tr>\n",
       "      <th>6069</th>\n",
       "      <td>ts353252</td>\n",
       "      <td>Crash Course In Romance</td>\n",
       "      <td>SHOW</td>\n",
       "      <td>A mother with a heart of gold navigates the cu...</td>\n",
       "      <td>2023</td>\n",
       "      <td>TV-14</td>\n",
       "      <td>73</td>\n",
       "      <td>drama</td>\n",
       "      <td>KR</td>\n",
       "      <td>1.0</td>\n",
       "      <td>tt24578016</td>\n",
       "      <td>8.1</td>\n",
       "      <td>922.0</td>\n",
       "      <td>102.480</td>\n",
       "      <td>7.250</td>\n",
       "    </tr>\n",
       "    <tr>\n",
       "      <th>6088</th>\n",
       "      <td>ts378936</td>\n",
       "      <td>In the Name of God: A Holy Betrayal</td>\n",
       "      <td>SHOW</td>\n",
       "      <td>This docuseries examining the chilling true st...</td>\n",
       "      <td>2023</td>\n",
       "      <td>TV-MA</td>\n",
       "      <td>49</td>\n",
       "      <td>crime</td>\n",
       "      <td>KR</td>\n",
       "      <td>1.0</td>\n",
       "      <td>tt26340363</td>\n",
       "      <td>7.4</td>\n",
       "      <td>129.0</td>\n",
       "      <td>35.798</td>\n",
       "      <td>NaN</td>\n",
       "    </tr>\n",
       "    <tr>\n",
       "      <th>6101</th>\n",
       "      <td>ts314687</td>\n",
       "      <td>Love to Hate You</td>\n",
       "      <td>SHOW</td>\n",
       "      <td>For a woman who despises losing to men, and a ...</td>\n",
       "      <td>2023</td>\n",
       "      <td>TV-MA</td>\n",
       "      <td>54</td>\n",
       "      <td>comedy</td>\n",
       "      <td>KR</td>\n",
       "      <td>1.0</td>\n",
       "      <td>tt26229508</td>\n",
       "      <td>7.9</td>\n",
       "      <td>1584.0</td>\n",
       "      <td>36.117</td>\n",
       "      <td>8.300</td>\n",
       "    </tr>\n",
       "    <tr>\n",
       "      <th>6115</th>\n",
       "      <td>ts357026</td>\n",
       "      <td>Divorce Attorney Shin</td>\n",
       "      <td>SHOW</td>\n",
       "      <td>Tells the story of how 45-year-old divorce law...</td>\n",
       "      <td>2023</td>\n",
       "      <td>NaN</td>\n",
       "      <td>69</td>\n",
       "      <td>drama</td>\n",
       "      <td>KR</td>\n",
       "      <td>1.0</td>\n",
       "      <td>tt26225090</td>\n",
       "      <td>7.6</td>\n",
       "      <td>20.0</td>\n",
       "      <td>69.243</td>\n",
       "      <td>5.000</td>\n",
       "    </tr>\n",
       "  </tbody>\n",
       "</table>\n",
       "<p>183 rows × 15 columns</p>\n",
       "</div>"
      ],
      "text/plain": [
       "            id                                title  type  \\\n",
       "279    ts21688                    Boys Over Flowers  SHOW   \n",
       "389    ts56589                  Tayo the Little Bus  SHOW   \n",
       "396    ts31593            Pororo the Little Penguin  SHOW   \n",
       "399    ts21695                                 Iris  SHOW   \n",
       "637    ts33349                         Robocar Poli  SHOW   \n",
       "...        ...                                  ...   ...   \n",
       "6047  ts367138                        Physical: 100  SHOW   \n",
       "6069  ts353252              Crash Course In Romance  SHOW   \n",
       "6088  ts378936  In the Name of God: A Holy Betrayal  SHOW   \n",
       "6101  ts314687                     Love to Hate You  SHOW   \n",
       "6115  ts357026                Divorce Attorney Shin  SHOW   \n",
       "\n",
       "                                            description  release_year  \\\n",
       "279   A working class girl winds up at an exclusive ...          2009   \n",
       "389   Tayo the Little Bus is a South Korean computer...          2010   \n",
       "396   Fun adventures await in the forest named Poron...          2003   \n",
       "399   Two friends, members of the South Korean milit...          2009   \n",
       "637   Cartoon showing toddlers important life lesson...          2011   \n",
       "...                                                 ...           ...   \n",
       "6047  In this fierce fitness competition, one hundre...          2023   \n",
       "6069  A mother with a heart of gold navigates the cu...          2023   \n",
       "6088  This docuseries examining the chilling true st...          2023   \n",
       "6101  For a woman who despises losing to men, and a ...          2023   \n",
       "6115  Tells the story of how 45-year-old divorce law...          2023   \n",
       "\n",
       "     age_certification  runtime     genres production_countries  seasons  \\\n",
       "279              TV-14       64     comedy                   KR      1.0   \n",
       "389               TV-Y       11  animation                   KR      6.0   \n",
       "396                NaN       10     family                   KR      7.0   \n",
       "399              TV-14       61      drama                   KR      2.0   \n",
       "637               TV-Y       14  animation                   KR      4.0   \n",
       "...                ...      ...        ...                  ...      ...   \n",
       "6047             TV-14       65    reality                   KR      1.0   \n",
       "6069             TV-14       73      drama                   KR      1.0   \n",
       "6088             TV-MA       49      crime                   KR      1.0   \n",
       "6101             TV-MA       54     comedy                   KR      1.0   \n",
       "6115               NaN       69      drama                   KR      1.0   \n",
       "\n",
       "         imdb_id  imdb_score  imdb_votes  tmdb_popularity  tmdb_score  \n",
       "279   tt10442802         7.8     12768.0           61.901       8.269  \n",
       "389    tt3270208         5.3       165.0            6.235       5.250  \n",
       "396    tt3968668         6.4       104.0           21.077       6.000  \n",
       "399    tt1757202         7.8      1951.0           12.879       7.648  \n",
       "637    tt4763642         6.0       134.0           16.782       6.250  \n",
       "...          ...         ...         ...              ...         ...  \n",
       "6047  tt25274446         7.7      5194.0           37.031       7.867  \n",
       "6069  tt24578016         8.1       922.0          102.480       7.250  \n",
       "6088  tt26340363         7.4       129.0           35.798         NaN  \n",
       "6101  tt26229508         7.9      1584.0           36.117       8.300  \n",
       "6115  tt26225090         7.6        20.0           69.243       5.000  \n",
       "\n",
       "[183 rows x 15 columns]"
      ]
     },
     "execution_count": 23,
     "metadata": {},
     "output_type": "execute_result"
    }
   ],
   "source": [
    "# 한국 작품 150개 존재\n",
    "tvshow[tvshow['production_countries']=='KR']"
   ]
  },
  {
   "cell_type": "markdown",
   "id": "7faf81cd",
   "metadata": {
    "papermill": {
     "duration": 0.015938,
     "end_time": "2023-04-02T07:53:09.580724",
     "exception": false,
     "start_time": "2023-04-02T07:53:09.564786",
     "status": "completed"
    },
    "tags": []
   },
   "source": [
    "### barplot"
   ]
  },
  {
   "cell_type": "code",
   "execution_count": 24,
   "id": "104e6ced",
   "metadata": {
    "execution": {
     "iopub.execute_input": "2023-04-02T07:53:09.615836Z",
     "iopub.status.busy": "2023-04-02T07:53:09.615401Z",
     "iopub.status.idle": "2023-04-02T07:53:09.825200Z",
     "shell.execute_reply": "2023-04-02T07:53:09.823916Z"
    },
    "papermill": {
     "duration": 0.230908,
     "end_time": "2023-04-02T07:53:09.827981",
     "exception": false,
     "start_time": "2023-04-02T07:53:09.597073",
     "status": "completed"
    },
    "tags": []
   },
   "outputs": [
    {
     "data": {
      "image/png": "[encoded data removed]",
      "text/plain": [
       "<Figure size 800x300 with 1 Axes>"
      ]
     },
     "metadata": {},
     "output_type": "display_data"
    }
   ],
   "source": [
    "sns.barplot(data=tvshow[tvshow['production_countries']=='KR'], x='seasons', y='imdb_votes', estimator='mean', ci=None).set(title = 'season vs imdb_votes (mean)')\n",
    "fig=plt.gcf()\n",
    "fig.set_size_inches(8, 3)\n",
    "plt.show()"
   ]
  },
  {
   "cell_type": "code",
   "execution_count": 25,
   "id": "9f1f2928",
   "metadata": {
    "execution": {
     "iopub.execute_input": "2023-04-02T07:53:09.864996Z",
     "iopub.status.busy": "2023-04-02T07:53:09.864556Z",
     "iopub.status.idle": "2023-04-02T07:53:10.076204Z",
     "shell.execute_reply": "2023-04-02T07:53:10.074841Z"
    },
    "papermill": {
     "duration": 0.233569,
     "end_time": "2023-04-02T07:53:10.078790",
     "exception": false,
     "start_time": "2023-04-02T07:53:09.845221",
     "status": "completed"
    },
    "tags": []
   },
   "outputs": [
    {
     "data": {
      "image/png": "[encoded data removed]",
      "text/plain": [
       "<Figure size 800x300 with 1 Axes>"
      ]
     },
     "metadata": {},
     "output_type": "display_data"
    }
   ],
   "source": [
    "sns.barplot(data=tvshow[tvshow['production_countries']=='KR'], x='seasons', y='imdb_votes', estimator='max', ci=None).set(title = 'season vs imdb_votes (max)')\n",
    "fig=plt.gcf()\n",
    "fig.set_size_inches(8, 3)\n",
    "plt.show()"
   ]
  },
  {
   "cell_type": "code",
   "execution_count": 26,
   "id": "908b2e5b",
   "metadata": {
    "execution": {
     "iopub.execute_input": "2023-04-02T07:53:10.116802Z",
     "iopub.status.busy": "2023-04-02T07:53:10.116318Z",
     "iopub.status.idle": "2023-04-02T07:53:10.317100Z",
     "shell.execute_reply": "2023-04-02T07:53:10.315800Z"
    },
    "papermill": {
     "duration": 0.222932,
     "end_time": "2023-04-02T07:53:10.319732",
     "exception": false,
     "start_time": "2023-04-02T07:53:10.096800",
     "status": "completed"
    },
    "tags": []
   },
   "outputs": [
    {
     "data": {
      "image/png": "[encoded data removed]",
      "text/plain": [
       "<Figure size 800x300 with 1 Axes>"
      ]
     },
     "metadata": {},
     "output_type": "display_data"
    }
   ],
   "source": [
    "sns.barplot(data=tvshow[tvshow['production_countries']=='KR'], x='seasons', y='imdb_votes', estimator='min', ci=None).set(title = 'season vs imdb_votes (min)')\n",
    "fig=plt.gcf()\n",
    "fig.set_size_inches(8, 3)\n",
    "plt.show()"
   ]
  },
  {
   "cell_type": "markdown",
   "id": "aea3c225",
   "metadata": {
    "papermill": {
     "duration": 0.019722,
     "end_time": "2023-04-02T07:53:10.358170",
     "exception": false,
     "start_time": "2023-04-02T07:53:10.338448",
     "status": "completed"
    },
    "tags": []
   },
   "source": [
    "### scatterplot"
   ]
  },
  {
   "cell_type": "code",
   "execution_count": 27,
   "id": "1becdbd9",
   "metadata": {
    "execution": {
     "iopub.execute_input": "2023-04-02T07:53:10.397355Z",
     "iopub.status.busy": "2023-04-02T07:53:10.396895Z",
     "iopub.status.idle": "2023-04-02T07:53:10.624011Z",
     "shell.execute_reply": "2023-04-02T07:53:10.622617Z"
    },
    "papermill": {
     "duration": 0.24966,
     "end_time": "2023-04-02T07:53:10.626754",
     "exception": false,
     "start_time": "2023-04-02T07:53:10.377094",
     "status": "completed"
    },
    "tags": []
   },
   "outputs": [
    {
     "data": {
      "image/png": "[encoded data removed]",
      "text/plain": [
       "<Figure size 800x500 with 1 Axes>"
      ]
     },
     "metadata": {},
     "output_type": "display_data"
    }
   ],
   "source": [
    "sns.scatterplot(data=tvshow[tvshow['production_countries']=='KR'], x='seasons', y='imdb_votes')\n",
    "fig=plt.gcf()\n",
    "fig.set_size_inches(8,5)\n",
    "plt.show()"
   ]
  },
  {
   "cell_type": "markdown",
   "id": "7fc92290",
   "metadata": {
    "papermill": {
     "duration": 0.018343,
     "end_time": "2023-04-02T07:53:10.663905",
     "exception": false,
     "start_time": "2023-04-02T07:53:10.645562",
     "status": "completed"
    },
    "tags": []
   },
   "source": [
    "### regplot"
   ]
  },
  {
   "cell_type": "code",
   "execution_count": 28,
   "id": "87a46874",
   "metadata": {
    "execution": {
     "iopub.execute_input": "2023-04-02T07:53:10.704049Z",
     "iopub.status.busy": "2023-04-02T07:53:10.702792Z",
     "iopub.status.idle": "2023-04-02T07:53:10.891795Z",
     "shell.execute_reply": "2023-04-02T07:53:10.890262Z"
    },
    "papermill": {
     "duration": 0.212948,
     "end_time": "2023-04-02T07:53:10.895469",
     "exception": false,
     "start_time": "2023-04-02T07:53:10.682521",
     "status": "completed"
    },
    "tags": []
   },
   "outputs": [
    {
     "data": {
      "image/png": "[encoded data removed]",
      "text/plain": [
       "<Figure size 1000x600 with 1 Axes>"
      ]
     },
     "metadata": {},
     "output_type": "display_data"
    }
   ],
   "source": [
    "sns.regplot(data=tvshow[tvshow['production_countries']=='KR'], x='seasons', y='imdb_votes', lowess=True, line_kws={'color': 'red'})\n",
    "fig=plt.gcf()\n",
    "fig.set_size_inches(10,6)\n",
    "plt.show()"
   ]
  },
  {
   "cell_type": "code",
   "execution_count": 29,
   "id": "7497bab9",
   "metadata": {
    "execution": {
     "iopub.execute_input": "2023-04-02T07:53:10.938892Z",
     "iopub.status.busy": "2023-04-02T07:53:10.937575Z",
     "iopub.status.idle": "2023-04-02T07:53:10.947663Z",
     "shell.execute_reply": "2023-04-02T07:53:10.946394Z"
    },
    "papermill": {
     "duration": 0.034262,
     "end_time": "2023-04-02T07:53:10.949940",
     "exception": false,
     "start_time": "2023-04-02T07:53:10.915678",
     "status": "completed"
    },
    "tags": []
   },
   "outputs": [
    {
     "data": {
      "text/plain": [
       "463410.0"
      ]
     },
     "execution_count": 29,
     "metadata": {},
     "output_type": "execute_result"
    }
   ],
   "source": [
    "# seasons=2의 imdb_votes 최댓값\n",
    "tvshow[tvshow['production_countries']=='KR']['imdb_votes'].max()"
   ]
  },
  {
   "cell_type": "code",
   "execution_count": 30,
   "id": "c6d8fce3",
   "metadata": {
    "execution": {
     "iopub.execute_input": "2023-04-02T07:53:10.991566Z",
     "iopub.status.busy": "2023-04-02T07:53:10.989992Z",
     "iopub.status.idle": "2023-04-02T07:53:11.005933Z",
     "shell.execute_reply": "2023-04-02T07:53:11.004694Z"
    },
    "papermill": {
     "duration": 0.039793,
     "end_time": "2023-04-02T07:53:11.009047",
     "exception": false,
     "start_time": "2023-04-02T07:53:10.969254",
     "status": "completed"
    },
    "tags": []
   },
   "outputs": [
    {
     "data": {
      "text/html": [
       "<div>\n",
       "<style scoped>\n",
       "    .dataframe tbody tr th:only-of-type {\n",
       "        vertical-align: middle;\n",
       "    }\n",
       "\n",
       "    .dataframe tbody tr th {\n",
       "        vertical-align: top;\n",
       "    }\n",
       "\n",
       "    .dataframe thead th {\n",
       "        text-align: right;\n",
       "    }\n",
       "</style>\n",
       "<table border=\"1\" class=\"dataframe\">\n",
       "  <thead>\n",
       "    <tr style=\"text-align: right;\">\n",
       "      <th></th>\n",
       "      <th>id</th>\n",
       "      <th>title</th>\n",
       "      <th>type</th>\n",
       "      <th>description</th>\n",
       "      <th>release_year</th>\n",
       "      <th>age_certification</th>\n",
       "      <th>runtime</th>\n",
       "      <th>genres</th>\n",
       "      <th>production_countries</th>\n",
       "      <th>seasons</th>\n",
       "      <th>imdb_id</th>\n",
       "      <th>imdb_score</th>\n",
       "      <th>imdb_votes</th>\n",
       "      <th>tmdb_popularity</th>\n",
       "      <th>tmdb_score</th>\n",
       "    </tr>\n",
       "  </thead>\n",
       "  <tbody>\n",
       "  </tbody>\n",
       "</table>\n",
       "</div>"
      ],
      "text/plain": [
       "Empty DataFrame\n",
       "Columns: [id, title, type, description, release_year, age_certification, runtime, genres, production_countries, seasons, imdb_id, imdb_score, imdb_votes, tmdb_popularity, tmdb_score]\n",
       "Index: []"
      ]
     },
     "execution_count": 30,
     "metadata": {},
     "output_type": "execute_result"
    }
   ],
   "source": [
    "# 최댓값을 가지는 작품 찾기 -> 오징어 게임\n",
    "tvshow[(tvshow['production_countries']=='KR') & (tvshow['imdb_votes']==426967.0)]"
   ]
  },
  {
   "cell_type": "code",
   "execution_count": 31,
   "id": "6de075be",
   "metadata": {
    "execution": {
     "iopub.execute_input": "2023-04-02T07:53:11.050797Z",
     "iopub.status.busy": "2023-04-02T07:53:11.049939Z",
     "iopub.status.idle": "2023-04-02T07:53:11.376899Z",
     "shell.execute_reply": "2023-04-02T07:53:11.375525Z"
    },
    "papermill": {
     "duration": 0.350498,
     "end_time": "2023-04-02T07:53:11.379681",
     "exception": false,
     "start_time": "2023-04-02T07:53:11.029183",
     "status": "completed"
    },
    "tags": []
   },
   "outputs": [
    {
     "data": {
      "image/png": "[encoded data removed]",
      "text/plain": [
       "<Figure size 1000x600 with 1 Axes>"
      ]
     },
     "metadata": {},
     "output_type": "display_data"
    }
   ],
   "source": [
    "# 오징어 게임을 제외한 데이터를 가지고 regplot을 다시 그려봄\n",
    "sns.regplot(data=tvshow[(tvshow['production_countries']=='KR') & (tvshow['title']!='Squid Game')], x='seasons', y='imdb_votes', lowess=True, line_kws={'color': 'red'})\n",
    "fig=plt.gcf()\n",
    "fig.set_size_inches(10,6)\n",
    "plt.show()"
   ]
  },
  {
   "cell_type": "markdown",
   "id": "6df08b33",
   "metadata": {
    "papermill": {
     "duration": 0.020355,
     "end_time": "2023-04-02T07:53:11.420688",
     "exception": false,
     "start_time": "2023-04-02T07:53:11.400333",
     "status": "completed"
    },
    "tags": []
   },
   "source": [
    "- 한국 SHOW 작품의 경우, 시즌이 증가할 수록 imdb_votes가 감소하는 것으로 보아 음의 상관관계를 가지는 것을 알 수 있다."
   ]
  }
 ],
 "metadata": {
  "kernelspec": {
   "display_name": "Python 3",
   "language": "python",
   "name": "python3"
  },
  "language_info": {
   "codemirror_mode": {
    "name": "ipython",
    "version": 3
   },
   "file_extension": ".py",
   "mimetype": "text/x-python",
   "name": "python",
   "nbconvert_exporter": "python",
   "pygments_lexer": "ipython3",
   "version": "3.7.12"
  },
  "papermill": {
   "default_parameters": {},
   "duration": 17.37142,
   "end_time": "2023-04-02T07:53:12.164627",
   "environment_variables": {},
   "exception": null,
   "input_path": "__notebook__.ipynb",
   "output_path": "__notebook__.ipynb",
   "parameters": {},
   "start_time": "2023-04-02T07:52:54.793207",
   "version": "2.4.0"
  }
 },
 "nbformat": 4,
 "nbformat_minor": 5
}
